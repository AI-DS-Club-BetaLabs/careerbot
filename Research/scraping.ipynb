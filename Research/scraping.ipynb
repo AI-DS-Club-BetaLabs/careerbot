{
 "cells": [
  {
   "cell_type": "code",
   "execution_count": 1,
   "metadata": {},
   "outputs": [
    {
     "name": "stderr",
     "output_type": "stream",
     "text": [
      "C:\\Users\\Acer\\AppData\\Local\\Temp\\ipykernel_19156\\2857729192.py:1: DeprecationWarning: \n",
      "Pyarrow will become a required dependency of pandas in the next major release of pandas (pandas 3.0),\n",
      "(to allow more performant data types, such as the Arrow string type, and better interoperability with other libraries)\n",
      "but was not found to be installed on your system.\n",
      "If this would cause problems for you,\n",
      "please provide us feedback at https://github.com/pandas-dev/pandas/issues/54466\n",
      "        \n",
      "  import pandas as pd\n"
     ]
    },
    {
     "data": {
      "text/html": [
       "<div>\n",
       "<style scoped>\n",
       "    .dataframe tbody tr th:only-of-type {\n",
       "        vertical-align: middle;\n",
       "    }\n",
       "\n",
       "    .dataframe tbody tr th {\n",
       "        vertical-align: top;\n",
       "    }\n",
       "\n",
       "    .dataframe thead th {\n",
       "        text-align: right;\n",
       "    }\n",
       "</style>\n",
       "<table border=\"1\" class=\"dataframe\">\n",
       "  <thead>\n",
       "    <tr style=\"text-align: right;\">\n",
       "      <th></th>\n",
       "      <th>Unnamed: 0</th>\n",
       "      <th>Job Salary</th>\n",
       "      <th>Job Experience Required</th>\n",
       "      <th>Key Skills</th>\n",
       "      <th>Role Category</th>\n",
       "      <th>Functional Area</th>\n",
       "      <th>Industry</th>\n",
       "      <th>Job Title</th>\n",
       "    </tr>\n",
       "  </thead>\n",
       "  <tbody>\n",
       "    <tr>\n",
       "      <th>0</th>\n",
       "      <td>0</td>\n",
       "      <td>Not Disclosed by Recruiter</td>\n",
       "      <td>5 - 10 yrs</td>\n",
       "      <td>Media Planning| Digital Media</td>\n",
       "      <td>Advertising</td>\n",
       "      <td>Marketing , Advertising , MR , PR , Media Plan...</td>\n",
       "      <td>Advertising, PR, MR, Event Management</td>\n",
       "      <td>Media Planning Executive/Manager</td>\n",
       "    </tr>\n",
       "    <tr>\n",
       "      <th>1</th>\n",
       "      <td>1</td>\n",
       "      <td>Not Disclosed by Recruiter</td>\n",
       "      <td>2 - 5 yrs</td>\n",
       "      <td>pre sales| closing| software knowledge| clien...</td>\n",
       "      <td>Retail Sales</td>\n",
       "      <td>Sales , Retail , Business Development</td>\n",
       "      <td>IT-Software, Software Services</td>\n",
       "      <td>Sales Executive/Officer</td>\n",
       "    </tr>\n",
       "    <tr>\n",
       "      <th>2</th>\n",
       "      <td>2</td>\n",
       "      <td>Not Disclosed by Recruiter</td>\n",
       "      <td>0 - 1 yrs</td>\n",
       "      <td>Computer science| Fabrication| Quality check|...</td>\n",
       "      <td>R&amp;D</td>\n",
       "      <td>Engineering Design , R&amp;D</td>\n",
       "      <td>Recruitment, Staffing</td>\n",
       "      <td>R&amp;D Executive</td>\n",
       "    </tr>\n",
       "    <tr>\n",
       "      <th>3</th>\n",
       "      <td>3</td>\n",
       "      <td>2,00,000 - 4,00,000 PA.</td>\n",
       "      <td>0 - 5 yrs</td>\n",
       "      <td>Technical Support</td>\n",
       "      <td>Admin/Maintenance/Security/Datawarehousing</td>\n",
       "      <td>IT Software - Application Programming , Mainte...</td>\n",
       "      <td>IT-Software, Software Services</td>\n",
       "      <td>Technical Support Engineer</td>\n",
       "    </tr>\n",
       "    <tr>\n",
       "      <th>4</th>\n",
       "      <td>4</td>\n",
       "      <td>Not Disclosed by Recruiter</td>\n",
       "      <td>2 - 5 yrs</td>\n",
       "      <td>manual testing| test engineering| test cases|...</td>\n",
       "      <td>Programming &amp; Design</td>\n",
       "      <td>IT Software - QA &amp; Testing</td>\n",
       "      <td>IT-Software, Software Services</td>\n",
       "      <td>Testing Engineer</td>\n",
       "    </tr>\n",
       "  </tbody>\n",
       "</table>\n",
       "</div>"
      ],
      "text/plain": [
       "   Unnamed: 0                    Job Salary Job Experience Required  \\\n",
       "0           0   Not Disclosed by Recruiter               5 - 10 yrs   \n",
       "1           1   Not Disclosed by Recruiter                2 - 5 yrs   \n",
       "2           2   Not Disclosed by Recruiter                0 - 1 yrs   \n",
       "3           3       2,00,000 - 4,00,000 PA.               0 - 5 yrs   \n",
       "4           4   Not Disclosed by Recruiter                2 - 5 yrs   \n",
       "\n",
       "                                          Key Skills  \\\n",
       "0                      Media Planning| Digital Media   \n",
       "1   pre sales| closing| software knowledge| clien...   \n",
       "2   Computer science| Fabrication| Quality check|...   \n",
       "3                                  Technical Support   \n",
       "4   manual testing| test engineering| test cases|...   \n",
       "\n",
       "                                Role Category  \\\n",
       "0                                 Advertising   \n",
       "1                                Retail Sales   \n",
       "2                                         R&D   \n",
       "3  Admin/Maintenance/Security/Datawarehousing   \n",
       "4                        Programming & Design   \n",
       "\n",
       "                                     Functional Area  \\\n",
       "0  Marketing , Advertising , MR , PR , Media Plan...   \n",
       "1              Sales , Retail , Business Development   \n",
       "2                           Engineering Design , R&D   \n",
       "3  IT Software - Application Programming , Mainte...   \n",
       "4                         IT Software - QA & Testing   \n",
       "\n",
       "                                Industry                         Job Title  \n",
       "0  Advertising, PR, MR, Event Management  Media Planning Executive/Manager  \n",
       "1         IT-Software, Software Services           Sales Executive/Officer  \n",
       "2                  Recruitment, Staffing                     R&D Executive  \n",
       "3         IT-Software, Software Services        Technical Support Engineer  \n",
       "4         IT-Software, Software Services                  Testing Engineer  "
      ]
     },
     "execution_count": 1,
     "metadata": {},
     "output_type": "execute_result"
    }
   ],
   "source": [
    "import pandas as pd \n",
    "\n",
    "jobs_df = pd.read_csv(\"../data/jobs.csv\")\n",
    "jobs_df.head()"
   ]
  },
  {
   "cell_type": "code",
   "execution_count": 9,
   "metadata": {},
   "outputs": [
    {
     "data": {
      "text/plain": [
       "630"
      ]
     },
     "execution_count": 9,
     "metadata": {},
     "output_type": "execute_result"
    }
   ],
   "source": [
    "jobs_df['Job Title'].nunique()"
   ]
  },
  {
   "cell_type": "code",
   "execution_count": 13,
   "metadata": {},
   "outputs": [],
   "source": [
    "from tqdm import tqdm \n",
    "\n",
    "def selection(entries: list[str]):\n",
    "    mods = []\n",
    "    for entry in tqdm(entries, total=len(entries)):\n",
    "        if len(entry.strip()) > 50:\n",
    "            continue \n",
    "        if \"/\" in entry:\n",
    "            mods.append(entry.split(\"/\")[0].strip())\n",
    "        else: \n",
    "            mods.append(entry.strip())\n",
    "    \n",
    "    mods = list(set(mods))\n",
    "    return mods "
   ]
  },
  {
   "cell_type": "code",
   "execution_count": 14,
   "metadata": {},
   "outputs": [
    {
     "name": "stderr",
     "output_type": "stream",
     "text": [
      "  0%|          | 0/27010 [00:00<?, ?it/s]"
     ]
    },
    {
     "name": "stderr",
     "output_type": "stream",
     "text": [
      "100%|██████████| 27010/27010 [00:00<00:00, 1039560.19it/s]\n"
     ]
    }
   ],
   "source": [
    "filtered_jobs = selection(jobs_df['Job Title'].tolist())"
   ]
  },
  {
   "cell_type": "code",
   "execution_count": 16,
   "metadata": {},
   "outputs": [
    {
     "data": {
      "text/plain": [
       "461"
      ]
     },
     "execution_count": 16,
     "metadata": {},
     "output_type": "execute_result"
    }
   ],
   "source": [
    "len(filtered_jobs)"
   ]
  },
  {
   "cell_type": "code",
   "execution_count": 17,
   "metadata": {},
   "outputs": [],
   "source": [
    "career_df = pd.read_csv('../data/career_dataset.csv')"
   ]
  },
  {
   "cell_type": "code",
   "execution_count": 19,
   "metadata": {},
   "outputs": [
    {
     "data": {
      "text/plain": [
       "['Design & UX',\n",
       " 'Database Administrator',\n",
       " 'Network Security Engineer',\n",
       " 'Solutions Architect',\n",
       " 'Information Security Analyst',\n",
       " 'E-Commerce Analyst',\n",
       " 'Software Engineer',\n",
       " 'Systems Analyst',\n",
       " 'Database Developer']"
      ]
     },
     "execution_count": 19,
     "metadata": {},
     "output_type": "execute_result"
    }
   ],
   "source": [
    "list(set(career_df['Suggested Job Role'].tolist()))"
   ]
  },
  {
   "cell_type": "code",
   "execution_count": null,
   "metadata": {},
   "outputs": [],
   "source": []
  },
  {
   "cell_type": "code",
   "execution_count": null,
   "metadata": {},
   "outputs": [],
   "source": []
  },
  {
   "cell_type": "code",
   "execution_count": 2,
   "metadata": {},
   "outputs": [],
   "source": [
    "import requests\n",
    "from bs4 import BeautifulSoup\n",
    "\n",
    "url = \"https://www.myplan.com/careers/browse-alphabetically.html?letter=all&sort=titles&page=all\"\n",
    "r = requests.get(url)\n",
    "\n",
    "soup = BeautifulSoup(r.content, 'html5lib')"
   ]
  },
  {
   "cell_type": "code",
   "execution_count": 3,
   "metadata": {},
   "outputs": [],
   "source": [
    "careers = soup.find('td', attrs={'class': 'box_table'}).findAll('a', attrs={'class': 'list-link'})"
   ]
  },
  {
   "cell_type": "code",
   "execution_count": 4,
   "metadata": {},
   "outputs": [],
   "source": [
    "records = {career.text: \"https://www.myplan.com\"+career['href'] for career in careers}"
   ]
  },
  {
   "cell_type": "code",
   "execution_count": 25,
   "metadata": {},
   "outputs": [],
   "source": [
    "sample = records['Actors']"
   ]
  },
  {
   "cell_type": "code",
   "execution_count": 6,
   "metadata": {},
   "outputs": [
    {
     "data": {
      "text/plain": [
       "'https://www.myplan.com/careers/accountants/summary-13-2011.01.html'"
      ]
     },
     "execution_count": 6,
     "metadata": {},
     "output_type": "execute_result"
    }
   ],
   "source": [
    "sample.split(\"?\")[0]"
   ]
  },
  {
   "cell_type": "code",
   "execution_count": null,
   "metadata": {},
   "outputs": [],
   "source": [
    "https://www.myplan.com/careers/accountants/summary-13-2011.01.html"
   ]
  },
  {
   "cell_type": "code",
   "execution_count": 7,
   "metadata": {},
   "outputs": [],
   "source": [
    "from requests.exceptions import SSLError\n",
    "\n",
    "tries = 0\n",
    "while tries != -1:\n",
    "    try:\n",
    "        response = requests.get(sample.split(\"?\")[0].replace(\"summary\", \"description\"))\n",
    "        tries = -1\n",
    "    except SSLError as e:\n",
    "        tries += 1"
   ]
  },
  {
   "cell_type": "code",
   "execution_count": 9,
   "metadata": {},
   "outputs": [],
   "source": [
    "soup1 = BeautifulSoup(response.content, 'html5lib')"
   ]
  },
  {
   "cell_type": "code",
   "execution_count": 12,
   "metadata": {},
   "outputs": [
    {
     "data": {
      "text/plain": [
       "'https://www.myplan.com/careers/accountants/description-13-2011.01.html'"
      ]
     },
     "execution_count": 12,
     "metadata": {},
     "output_type": "execute_result"
    }
   ],
   "source": [
    "sample.split(\"?\")[0].replace(\"summary\", \"description\")"
   ]
  },
  {
   "cell_type": "code",
   "execution_count": 14,
   "metadata": {},
   "outputs": [
    {
     "name": "stdout",
     "output_type": "stream",
     "text": [
      " | \n",
      " | Search:\n",
      "Existing\n",
      "Users\n",
      " Forgot your password? \n",
      "                                Click here\n",
      "New\n",
      "Users\n",
      "Featured\n",
      "Resources\n",
      "\n",
      "                 Accountants               \n",
      "\n",
      "                 Accountants               \n",
      "Summary\n",
      "  |  \n",
      "Description  |  \n",
      "Description\n",
      "  |  \n",
      "  |  \n",
      "  |  \n",
      "  |  \n",
      "Careers / Accountants\n",
      "Summary Description\n",
      "\n",
      "                                          Analyze financial information and prepare financial reports to determine or maintain record of assets, liabilities, profit and loss, tax liability, or other financial activities within an organization.                                        \n",
      "Sample Job Titles\n",
      "Job Tasks\n",
      "Work Activities\n",
      "\n",
      "\n",
      "—\n",
      "                                                    Using computers and computer systems (including hardware and software) to program, write software, set up functions, enter data, or process information.                                                  \n",
      "—\n",
      "                                                    Compiling, coding, categorizing, calculating, tabulating, auditing, or verifying information or data.                                                  \n",
      "—\n",
      "                                                    Observing, receiving, and otherwise obtaining information from all relevant sources.                                                  \n",
      "—\n",
      "                                                    Using relevant information and individual judgment to determine whether events or processes comply with laws, regulations, or standards.                                                  \n",
      "—\n",
      "                                                    Developing specific goals and plans to prioritize, organize, and accomplish your work.                                                  \n",
      "—\n",
      "                                                    Identifying the underlying principles, reasons, or facts of information by breaking down information or data into separate parts.                                                  \n",
      "—\n",
      "                                                    Providing information to supervisors, co-workers, and subordinates by telephone, in written form, e-mail, or in person.                                                  \n",
      "—\n",
      "                                                    Keeping up-to-date technically and applying new knowledge to your job.                                                  \n",
      "—\n",
      "                                                    Analyzing information and evaluating results to choose the best solution and solve problems.                                                  \n",
      "—\n",
      "                                                    Developing constructive and cooperative working relationships with others, and maintaining them over time.                                                  \n",
      "—\n",
      "                                                    Identifying information by categorizing, estimating, recognizing differences or similarities, and detecting changes in circumstances or events.                                                  \n",
      "—\n",
      "                                                    Entering, transcribing, recording, storing, or maintaining information in written or electronic/magnetic form.                                                  \n",
      "—\n",
      "                                                    Communicating with people outside the organization, representing the organization to customers, the public, government, and other external sources. This information can be exchanged in person, in writing, or by telephone or e-mail.                                                  \n",
      "—\n",
      "                                                    Translating or explaining what information means and how it can be used.                                                  \n",
      "—\n",
      "                                                    Performing day-to-day administrative tasks such as maintaining information files and processing paperwork.                                                  \n",
      "—\n",
      "                                                    Getting members of a group to work together to accomplish tasks.                                                  \n",
      "—\n",
      "                                                    Scheduling events, programs, and activities, as well as the work of others.                                                  \n",
      "—\n",
      "                                                    Developing, designing, or creating new applications, ideas, relationships, systems, or products, including artistic contributions.                                                  \n",
      "—\n",
      "                                                    Providing guidance and expert advice to management or other groups on technical, systems-, or process-related topics.                                                  \n",
      "—\n",
      "                                                    Monitoring and reviewing information from materials, events, or the environment, to detect or assess problems.                                                  \n",
      "—\n",
      "                                                    Identifying the developmental needs of others and coaching, mentoring, or otherwise helping others to improve their knowledge or skills.                                                  \n",
      "—\n",
      "                                                    Estimating sizes, distances, and quantities; or determining time, costs, resources, or materials needed to perform a work activity.                                                  \n",
      "—\n",
      "                                                    Handling complaints, settling disputes, and resolving grievances and conflicts, or otherwise negotiating with others.                                                  \n",
      "—\n",
      "                                                    Encouraging and building mutual trust, respect, and cooperation among team members.                                                  \n",
      "—\n",
      "                                                    Assessing the value, importance, or quality of things or people.                                                  \n",
      "—\n",
      "                                                    Monitoring and controlling resources and overseeing the spending of money.                                                  \n",
      "—\n",
      "                                                    Establishing long-range objectives and specifying the strategies and actions to achieve them.                                                  \n",
      "—\n",
      "                                                    Identifying the educational needs of others, developing formal educational or training programs or classes, and teaching or instructing others.                                                  \n",
      "—\n",
      "                                                    Providing guidance and direction to subordinates, including setting performance standards and monitoring performance.                                                  \n",
      "—\n",
      "                                                    Performing for people or dealing directly with the public. This includes serving customers in restaurants and stores, and receiving clients or guests.                                                  \n",
      "—\n",
      "                                                    Recruiting, interviewing, selecting, hiring, and promoting employees in an organization.                                                  \n",
      "Nature of the Work\n",
      "(Abstract from Career Articles)\n",
      "Accountants and auditors prepare and examine financial records. They ensure that financial records are accurate and that taxes are paid properly and on time. Accountants and auditors assess financial operations and work to help ensure that organizations run efficiently.\n",
      "Working Conditions\n",
      "(Abstract from Career Articles)\n",
      "\n",
      "                                            Most accountants and auditors work full time. In 2014, about 1 in 5 worked more than 40 hours per week. Overtime hours are typical at certain times of the year, such as at the end of the budget year or during tax season.\n",
      "Interesting Fact\n",
      "Two-thirds of all present-day college students intend to become entrepreneurs at some point in their careers.\n",
      "Did you know...\n",
      "The MyPlan.com Career College Database provides detailed profiles on more than 4,200 different vocational schools in the U.S.\n"
     ]
    }
   ],
   "source": [
    "for k in soup1.findAll(\"span\"):\n",
    "    print(k.text)"
   ]
  },
  {
   "cell_type": "code",
   "execution_count": 15,
   "metadata": {},
   "outputs": [],
   "source": [
    "from selenium import webdriver\n",
    "from selenium.webdriver.common.by import By\n",
    "from webdriver_manager.chrome import ChromeDriverManager"
   ]
  },
  {
   "cell_type": "code",
   "execution_count": 40,
   "metadata": {},
   "outputs": [],
   "source": [
    "options = webdriver.ChromeOptions()\n",
    "options.add_argument('--ignore-ssl-errors=yes')\n",
    "options.add_argument('--ignore-certificate-errors')\n",
    "driver = webdriver.Chrome(options=options)"
   ]
  },
  {
   "cell_type": "code",
   "execution_count": 26,
   "metadata": {},
   "outputs": [],
   "source": [
    "driver.get(sample.split(\"?\")[0].replace(\"summary\", \"description\"))\n",
    "element = driver.find_element(By.XPATH, \"/html/body/table/tbody/tr[2]/td/table/tbody/tr[2]/td/center/table/tbody/tr[1]/td[3]/table/tbody/tr[4]/td/table/tbody/tr[5]\")"
   ]
  },
  {
   "cell_type": "code",
   "execution_count": 27,
   "metadata": {},
   "outputs": [
    {
     "name": "stdout",
     "output_type": "stream",
     "text": [
      "  Summary Description\n",
      "Play parts in stage, television, radio, video, motion picture productions, or other settings for entertainment, information, or instruction. Interpret serious or comic role by speech, gesture, and body movement to entertain or inform audience. May dance and sing.\n",
      "  Sample Job Titles\n",
      "1.\n",
      "Acrobat\n",
      "2.\n",
      "Acting Teacher\n",
      "3.\n",
      "Actor\n",
      "4.\n",
      "Actor Understudy\n",
      "5.\n",
      "Actress\n",
      "6.\n",
      "Aerialist\n",
      "7.\n",
      "Amusement Park Entertainer\n",
      "8.\n",
      "Aquatic Performer\n",
      "9.\n",
      "Artistic Director\n",
      "10.\n",
      "Circus Clown\n",
      "11.\n",
      "Clown\n",
      "12.\n",
      "Comedian\n",
      "13.\n",
      "Comic\n",
      "14.\n",
      "Community Theater Actor\n",
      "15.\n",
      "Diver\n",
      "16.\n",
      "Double\n",
      "17.\n",
      "Dramatic Reader\n",
      "18.\n",
      "Elocutionist\n",
      "19.\n",
      "Ensemble Director\n",
      "20.\n",
      "Extra\n",
      "21.\n",
      "Illusionist\n",
      "22.\n",
      "Impersonator\n",
      "23.\n",
      "Impresario\n",
      "24.\n",
      "Juggler\n",
      "25.\n",
      "Magician\n",
      "26.\n",
      "Mime\n",
      "27.\n",
      "Minstrel\n",
      "28.\n",
      "Monologist\n",
      "29.\n",
      "Motion Picture Actor\n",
      "  30.\n",
      "Movie Actor\n",
      "31.\n",
      "Movie Extra\n",
      "32.\n",
      "Movie Star\n",
      "33.\n",
      "Movie Stunt Performer\n",
      "34.\n",
      "Narrator\n",
      "35.\n",
      "Performer\n",
      "36.\n",
      "Puppeteer\n",
      "37.\n",
      "Ring Conductor\n",
      "38.\n",
      "Second\n",
      "39.\n",
      "Show Girl\n",
      "40.\n",
      "Soubrette\n",
      "41.\n",
      "Stand Up Comedian\n",
      "42.\n",
      "Stand-In\n",
      "43.\n",
      "Stunt Double\n",
      "44.\n",
      "Stunt Driver\n",
      "45.\n",
      "Stunt Performer\n",
      "46.\n",
      "Stunt Person\n",
      "47.\n",
      "Stunt Woman\n",
      "48.\n",
      "Television Actor\n",
      "49.\n",
      "Theatre Ensemble Member\n",
      "50.\n",
      "Theatrical Performer\n",
      "51.\n",
      "Theatrical Trouper\n",
      "52.\n",
      "Thrill Performer\n",
      "53.\n",
      "Understudy\n",
      "54.\n",
      "Vaudeville Actor\n",
      "55.\n",
      "Ventriloquist\n",
      "56.\n",
      "Voice Actor\n",
      "57.\n",
      "Voice-Over Artist\n",
      "58.\n",
      "Wire Walker\n",
      "  Job Tasks\n",
      "Study and rehearse roles from scripts to interpret, learn and memorize lines, stunts, and cues as directed.\n",
      "Study scripts to determine project requirements.\n",
      "Practice athletic or artistic skills.\n",
      "Work closely with directors, other actors, and playwrights to find the interpretation most suited to the role.\n",
      "Collaborate with others to prepare or perform artistic productions.\n",
      "Learn about characters in scripts and their relationships to each other to develop role interpretations.\n",
      "Study scripts to determine project requirements.\n",
      "Collaborate with other actors as part of an ensemble.\n",
      "Collaborate with others to prepare or perform artistic productions.\n",
      "Perform humorous and serious interpretations of emotions, actions, and situations, using body movements, facial expressions, and gestures.\n",
      "Entertain public with comedic or dramatic performances.\n",
      "Attend auditions and casting calls to audition for roles.\n",
      "Audition for roles.\n",
      "Portray and interpret roles, using speech, gestures, and body movements, to entertain, inform, or instruct radio, film, television, or live audiences.\n",
      "Entertain public with comedic or dramatic performances.\n",
      "Work with other crew members responsible for lighting, costumes, make-up, and props.\n",
      "Collaborate with others to determine technical details of productions.\n",
      "Sing or dance during dramatic or comedic performances.\n",
      "Perform music for the public.\n",
      "Entertain public with comedic or dramatic performances.\n",
      "Write original or adapted material for dramas, comedies, puppet shows, narration, or other performances.\n",
      "Write material for artistic or entertainment purposes.\n",
      "Read from scripts or books to narrate action or to inform or entertain audiences, utilizing few or no stage props.\n",
      "Entertain public with comedic or dramatic performances.\n",
      "Promote productions using means such as interviews about plays or movies.\n",
      "Promote products, activities, or organizations.\n",
      "Prepare and perform action stunts for motion picture, television, or stage productions.\n",
      "Entertain public with comedic or dramatic performances.\n",
      "Tell jokes, perform comic dances, songs and skits, impersonate mannerisms and voices of others, contort face, and use other devices to amuse audiences.\n",
      "Entertain public with comedic or dramatic performances.\n",
      "Introduce performances and performers to stimulate excitement and coordinate smooth transition of acts during events.\n",
      "Inform viewers, listeners, or audiences.\n",
      "Manipulate strings, wires, rods, or fingers to animate puppets or dummies in synchronization with talking, singing, or recorded programs.\n",
      "Entertain public with comedic or dramatic performances.\n",
      "Dress in comical clown costumes and makeup, and perform comedy routines to entertain audiences.\n",
      "Entertain public with comedic or dramatic performances.\n",
      "Perform original and stock tricks of illusion to entertain and mystify audiences, occasionally including audience members as participants.\n",
      "Entertain public with comedic or dramatic performances.\n",
      "Construct puppets and ventriloquist dummies, and sew accessory clothing, using hand tools and machines.\n",
      "Construct distinctive physical objects for artistic, functional, or commercial purposes.\n",
      "  Work Activities\n",
      "Importance Work Activity\n",
      "95\n",
      "Thinking Creatively — Developing, designing, or creating new applications, ideas, relationships, systems, or products, including artistic contributions.\n",
      "88\n",
      "Establishing and Maintaining Interpersonal Relationships — Developing constructive and cooperative working relationships with others, and maintaining them over time.\n",
      "87\n",
      "Performing for or Working Directly with the Public — Performing for people or dealing directly with the public. This includes serving customers in restaurants and stores, and receiving clients or guests.\n",
      "76\n",
      "Getting Information — Observing, receiving, and otherwise obtaining information from all relevant sources.\n",
      "71\n",
      "Making Decisions and Solving Problems — Analyzing information and evaluating results to choose the best solution and solve problems.\n",
      "69\n",
      "Developing Objectives and Strategies — Establishing long-range objectives and specifying the strategies and actions to achieve them.\n",
      "67\n",
      "Judging the Qualities of Things, Services, or People — Assessing the value, importance, or quality of things or people.\n",
      "67\n",
      "Organizing, Planning, and Prioritizing Work — Developing specific goals and plans to prioritize, organize, and accomplish your work.\n",
      "65\n",
      "Communicating with Supervisors, Peers, or Subordinates — Providing information to supervisors, co-workers, and subordinates by telephone, in written form, e-mail, or in person.\n",
      "62\n",
      "Interpreting the Meaning of Information for Others — Translating or explaining what information means and how it can be used.\n",
      "61\n",
      "Performing General Physical Activities — Performing physical activities that require considerable use of your arms and legs and moving your whole body, such as climbing, lifting, balancing, walking, stooping, and handling of materials.\n",
      "60\n",
      "Scheduling Work and Activities — Scheduling events, programs, and activities, as well as the work of others.\n",
      "59\n",
      "Identifying Objects, Actions, and Events — Identifying information by categorizing, estimating, recognizing differences or similarities, and detecting changes in circumstances or events.\n",
      "57\n",
      "Developing and Building Teams — Encouraging and building mutual trust, respect, and cooperation among team members.\n",
      "55\n",
      "Communicating with Persons Outside Organization — Communicating with people outside the organization, representing the organization to customers, the public, government, and other external sources. This information can be exchanged in person, in writing, or by telephone or e-mail.\n",
      "52\n",
      "Coordinating the Work and Activities of Others — Getting members of a group to work together to accomplish tasks.\n",
      "49\n",
      "Resolving Conflicts and Negotiating with Others — Handling complaints, settling disputes, and resolving grievances and conflicts, or otherwise negotiating with others.\n",
      "48\n",
      "Documenting/Recording Information — Entering, transcribing, recording, storing, or maintaining information in written or electronic/magnetic form.\n",
      "47\n",
      "Updating and Using Relevant Knowledge — Keeping up-to-date technically and applying new knowledge to your job.\n",
      "45\n",
      "Coaching and Developing Others — Identifying the developmental needs of others and coaching, mentoring, or otherwise helping others to improve their knowledge or skills.\n",
      "44\n",
      "Monitor Processes, Materials, or Surroundings — Monitoring and reviewing information from materials, events, or the environment, to detect or assess problems.\n",
      "42\n",
      "Training and Teaching Others — Identifying the educational needs of others, developing formal educational or training programs or classes, and teaching or instructing others.\n",
      "41\n",
      "Assisting and Caring for Others — Providing personal assistance, medical attention, emotional support, or other personal care to others such as coworkers, customers, or patients.\n",
      "40\n",
      "Handling and Moving Objects — Using hands and arms in handling, installing, positioning, and moving materials, and manipulating things.\n",
      "39\n",
      "Selling or Influencing Others — Convincing others to buy merchandise/goods or to otherwise change their minds or actions.\n",
      "31\n",
      "Analyzing Data or Information — Identifying the underlying principles, reasons, or facts of information by breaking down information or data into separate parts.\n",
      "28\n",
      "Guiding, Directing, and Motivating Subordinates — Providing guidance and direction to subordinates, including setting performance standards and monitoring performance.\n",
      "   \n"
     ]
    }
   ],
   "source": [
    "print(element.text)"
   ]
  },
  {
   "cell_type": "code",
   "execution_count": 28,
   "metadata": {},
   "outputs": [],
   "source": [
    "driver.get(sample.split(\"?\")[0].replace(\"summary\", \"requirements\"))\n",
    "element = driver.find_element(By.XPATH, \"/html/body/table/tbody/tr[2]/td/table/tbody/tr[2]/td/center/table/tbody/tr[1]/td[3]/table/tbody/tr[4]/td/table/tbody/tr[5]\")"
   ]
  },
  {
   "cell_type": "code",
   "execution_count": 29,
   "metadata": {},
   "outputs": [
    {
     "name": "stdout",
     "output_type": "stream",
     "text": [
      "  Job Requirements\n",
      "Experience: Some previous work-related skill, knowledge, or experience is usually needed. For example, a teller would benefit from experience working directly with the public.\n",
      "Education: These occupations usually require a high school diploma.\n",
      "Training: Employees in these occupations need anywhere from a few months to one year of working with experienced employees. A recognized apprenticeship program may be associated with these occupations.\n",
      "  Top 5 Skills   Top 5 Abilities\n",
      "Speaking — Talking to others to convey information effectively.\n",
      "Active Listening — Giving full attention to what other people are saying, taking time to understand the points being made, asking questions as appropriate, and not interrupting at inappropriate times.\n",
      "Reading Comprehension — Understanding written sentences and paragraphs in work related documents.\n",
      "Social Perceptiveness — Being aware of others' reactions and understanding why they react as they do.\n",
      "Critical Thinking — Using logic and reasoning to identify the strengths and weaknesses of alternative solutions, conclusions or approaches to problems.\n",
      "  Oral Expression — The ability to communicate information and ideas in speaking so others will understand.\n",
      "Speech Clarity — The ability to speak clearly so others can understand you.\n",
      "Oral Comprehension — The ability to listen to and understand information and ideas presented through spoken words and sentences.\n",
      "Memorization — The ability to remember information such as words, numbers, pictures, and procedures.\n",
      "Written Comprehension — The ability to read and understand information and ideas presented in writing.\n",
      "  Knowledge\n",
      "Importance Area of Knowledge\n",
      "88\n",
      "Fine Arts — Knowledge of the theory and techniques required to compose, produce, and perform works of music, dance, visual arts, drama, and sculpture.\n",
      "88\n",
      "English Language — Knowledge of the structure and content of the English language including the meaning and spelling of words, rules of composition, and grammar.\n",
      "65\n",
      "Psychology — Knowledge of human behavior and performance; individual differences in ability, personality, and interests; learning and motivation; psychological research methods; and the assessment and treatment of behavioral and affective disorders.\n",
      "58\n",
      "Communications and Media — Knowledge of media production, communication, and dissemination techniques and methods. This includes alternative ways to inform and entertain via written, oral, and visual media.\n",
      "51\n",
      "Sociology and Anthropology — Knowledge of group behavior and dynamics, societal trends and influences, human migrations, ethnicity, cultures and their history and origins.\n",
      "  Training & Qualification\n",
      "(Abstract from Career Articles)\n",
      "Actors\n",
      "Many actors enhance their skills through formal dramatic education, and long-term training is common.\n",
      "Read More >>\n",
      "   \n"
     ]
    }
   ],
   "source": [
    "print(element.text)"
   ]
  },
  {
   "cell_type": "code",
   "execution_count": 46,
   "metadata": {},
   "outputs": [
    {
     "name": "stderr",
     "output_type": "stream",
     "text": [
      "100%|██████████| 1110/1110 [1:19:47<00:00,  4.31s/it]\n"
     ]
    }
   ],
   "source": [
    "from tqdm import tqdm \n",
    "\n",
    "count = 0\n",
    "for entry, hyperlink in tqdm(records.items(), total=len(records)):\n",
    "    count += 1\n",
    "    if count < 100:\n",
    "        continue\n",
    "    entry = entry.replace(\"/\", \" or \")\n",
    "    result = \"\"\n",
    "    xpath = \"/html/body/table/tbody/tr[2]/td/table/tbody/tr[2]/td/center/table/tbody/tr[1]/td[3]/table/tbody/tr[4]\"\n",
    "    driver.get(hyperlink.split(\"?\")[0].replace(\"summary\", \"description\"))\n",
    "    # print() \n",
    "    element = driver.find_element(By.XPATH, xpath)\n",
    "    result += element.text + \"\\n\\n\"\n",
    "    \n",
    "    driver.get(hyperlink.split(\"?\")[0].replace(\"summary\", \"requirements\"))\n",
    "    element = driver.find_element(By.XPATH, xpath)\n",
    "    result += element.text \n",
    "    \n",
    "    \n",
    "    with open(f\"../data/scraped/{entry}.txt\", \"w\") as file:\n",
    "        file.write(result)"
   ]
  },
  {
   "cell_type": "code",
   "execution_count": null,
   "metadata": {},
   "outputs": [],
   "source": []
  }
 ],
 "metadata": {
  "kernelspec": {
   "display_name": "Python 3",
   "language": "python",
   "name": "python3"
  },
  "language_info": {
   "codemirror_mode": {
    "name": "ipython",
    "version": 3
   },
   "file_extension": ".py",
   "mimetype": "text/x-python",
   "name": "python",
   "nbconvert_exporter": "python",
   "pygments_lexer": "ipython3",
   "version": "3.10.13"
  }
 },
 "nbformat": 4,
 "nbformat_minor": 2
}
